{
 "cells": [
  {
   "cell_type": "markdown",
   "metadata": {},
   "source": [
    "<img src=\"thanos.jpg\">"
   ]
  },
  {
   "cell_type": "markdown",
   "metadata": {},
   "source": [
    "# Project 1 - Thanos"
   ]
  },
  {
   "cell_type": "markdown",
   "metadata": {},
   "source": [
    "### 1. Import libraries (os, random, time)"
   ]
  },
  {
   "cell_type": "code",
   "execution_count": 23,
   "metadata": {},
   "outputs": [],
   "source": [
    "import os\n",
    "import datetime\n",
    "import random"
   ]
  },
  {
   "cell_type": "markdown",
   "metadata": {},
   "source": [
    "### 2. Create function to read all the files (people) from a directory. The function takes the location path as input and returns a list with the files in the folder"
   ]
  },
  {
   "cell_type": "code",
   "execution_count": 24,
   "metadata": {},
   "outputs": [],
   "source": [
    "def get_universe_people(path):\n",
    "    people=os.listdir(path)\n",
    "    return people"
   ]
  },
  {
   "cell_type": "markdown",
   "metadata": {},
   "source": [
    "### 3. Create a list called 'universe' that contains our people"
   ]
  },
  {
   "cell_type": "code",
   "execution_count": 25,
   "metadata": {},
   "outputs": [
    {
     "data": {
      "text/plain": [
       "['Adam Sandler.jpg',\n",
       " 'Angelina Julie.png',\n",
       " 'Ariana Grande.jpeg',\n",
       " 'Ben Affleck.jpg',\n",
       " 'Ben Stiller.jpg',\n",
       " 'Bill Gates.jpg',\n",
       " 'Brad Pitt.jpg',\n",
       " 'Britney Spears.jpg',\n",
       " 'Bruce Lee.jpg',\n",
       " 'Cameron Diaz.jpg',\n",
       " 'Dwayne Johnson.jpg',\n",
       " 'Elon Musk.jpg',\n",
       " 'Elton John.jpg',\n",
       " 'Jack Black.jpg',\n",
       " 'Jackie Chan.jpg',\n",
       " 'Jamie Foxx.jpg',\n",
       " 'Jason Segel.jpg',\n",
       " 'Jason Statham.jpg',\n",
       " 'Jeff Bezos.jpg',\n",
       " 'Jennifer Aniston.jpg',\n",
       " 'Jennifer Lopez.jpg',\n",
       " 'Jerry Seinfeld.jpg',\n",
       " 'Jim Carrey.jpg',\n",
       " 'John Cena.jpg',\n",
       " 'Johnny Depp.jpg',\n",
       " 'Josh Radnor.jpg',\n",
       " 'Julia Roberts.jpg',\n",
       " 'Justin Timberlake.jpg',\n",
       " 'Kate Upton.jpg',\n",
       " 'Keanu Reeves.jpg',\n",
       " 'Kevin Hart.jpg',\n",
       " 'Madonna.jpg',\n",
       " 'Mark Ruffalo.jpg',\n",
       " 'Mark Zuckerberg.jpg',\n",
       " 'Matt Damon.jpg',\n",
       " 'Michael Jackson.jpg',\n",
       " 'Michael Jordan.jpg',\n",
       " 'Mindy Kaling.jpg',\n",
       " 'Miranda Cosgrove.jpg',\n",
       " 'Neil Patrick Harris.jpg',\n",
       " 'Nick Jonas.jpg',\n",
       " 'Nicole Kidman.jpg',\n",
       " 'Paul Rudd.jpg',\n",
       " 'Robin Williams.jpg',\n",
       " 'Steve Carell.jpg',\n",
       " 'Steve Jobs.jpg',\n",
       " 'Sylvester Stallone.jpg',\n",
       " 'Tom Cruise.jpg',\n",
       " 'Will Ferrell.jpg',\n",
       " 'Will Smith.jpg']"
      ]
     },
     "execution_count": 25,
     "metadata": {},
     "output_type": "execute_result"
    }
   ],
   "source": [
    "universe=get_universe_people('parallel_universe')\n",
    "universe"
   ]
  },
  {
   "cell_type": "markdown",
   "metadata": {},
   "source": [
    "### 4. Check how many people there are in the universe (length of the list)"
   ]
  },
  {
   "cell_type": "code",
   "execution_count": 26,
   "metadata": {},
   "outputs": [],
   "source": [
    "l=len(universe)"
   ]
  },
  {
   "cell_type": "code",
   "execution_count": 27,
   "metadata": {},
   "outputs": [
    {
     "data": {
      "text/plain": [
       "50"
      ]
     },
     "execution_count": 27,
     "metadata": {},
     "output_type": "execute_result"
    }
   ],
   "source": [
    "l"
   ]
  },
  {
   "cell_type": "markdown",
   "metadata": {},
   "source": [
    "### 5. When Thanos snaps his hands, he kills half the population. Create a function 'snap' to simulate thanos snapping, deleting half of the images in the universe folder <br> The images should be selected from the list by random. <br> People should be killed with a 1 second interval"
   ]
  },
  {
   "cell_type": "code",
   "execution_count": 28,
   "metadata": {},
   "outputs": [],
   "source": [
    "def snap(universe):\n",
    "    half_of_universe=len(universe)//2\n",
    "    \n",
    "    for i in range(half_of_universe):\n",
    "        person=random.choice(universe)\n",
    "        os.remove('C:/Users/dell/Downloads/first folder py/parallel_universe/' + person)\n",
    "        universe.remove(person)\n",
    "        print(f\"Destroying person:{person}\")\n",
    "        \n",
    "        \n",
    "    print('perfectly balanced as all things should be')"
   ]
  },
  {
   "cell_type": "code",
   "execution_count": 29,
   "metadata": {},
   "outputs": [
    {
     "name": "stdout",
     "output_type": "stream",
     "text": [
      "Destroying person:Steve Carell.jpg\n",
      "Destroying person:Justin Timberlake.jpg\n",
      "Destroying person:Britney Spears.jpg\n",
      "Destroying person:Jackie Chan.jpg\n",
      "Destroying person:Will Smith.jpg\n",
      "Destroying person:Ben Affleck.jpg\n",
      "Destroying person:Dwayne Johnson.jpg\n",
      "Destroying person:Elton John.jpg\n",
      "Destroying person:Tom Cruise.jpg\n",
      "Destroying person:Johnny Depp.jpg\n",
      "Destroying person:Michael Jordan.jpg\n",
      "Destroying person:Matt Damon.jpg\n",
      "Destroying person:Will Ferrell.jpg\n",
      "Destroying person:Josh Radnor.jpg\n",
      "Destroying person:Jamie Foxx.jpg\n",
      "Destroying person:Jerry Seinfeld.jpg\n",
      "Destroying person:Paul Rudd.jpg\n",
      "Destroying person:Jim Carrey.jpg\n",
      "Destroying person:Elon Musk.jpg\n",
      "Destroying person:Ben Stiller.jpg\n",
      "Destroying person:John Cena.jpg\n",
      "Destroying person:Michael Jackson.jpg\n",
      "Destroying person:Jennifer Lopez.jpg\n",
      "Destroying person:Cameron Diaz.jpg\n",
      "Destroying person:Jennifer Aniston.jpg\n",
      "perfectly balanced as all things should be\n"
     ]
    }
   ],
   "source": [
    "snap(universe)"
   ]
  },
  {
   "cell_type": "markdown",
   "metadata": {},
   "source": [
    "### 6. Check how the new universe looks"
   ]
  },
  {
   "cell_type": "code",
   "execution_count": 30,
   "metadata": {},
   "outputs": [
    {
     "data": {
      "text/plain": [
       "['Adam Sandler.jpg',\n",
       " 'Angelina Julie.png',\n",
       " 'Ariana Grande.jpeg',\n",
       " 'Bill Gates.jpg',\n",
       " 'Brad Pitt.jpg',\n",
       " 'Bruce Lee.jpg',\n",
       " 'Jack Black.jpg',\n",
       " 'Jason Segel.jpg',\n",
       " 'Jason Statham.jpg',\n",
       " 'Jeff Bezos.jpg',\n",
       " 'Julia Roberts.jpg',\n",
       " 'Kate Upton.jpg',\n",
       " 'Keanu Reeves.jpg',\n",
       " 'Kevin Hart.jpg',\n",
       " 'Madonna.jpg',\n",
       " 'Mark Ruffalo.jpg',\n",
       " 'Mark Zuckerberg.jpg',\n",
       " 'Mindy Kaling.jpg',\n",
       " 'Miranda Cosgrove.jpg',\n",
       " 'Neil Patrick Harris.jpg',\n",
       " 'Nick Jonas.jpg',\n",
       " 'Nicole Kidman.jpg',\n",
       " 'Robin Williams.jpg',\n",
       " 'Steve Jobs.jpg',\n",
       " 'Sylvester Stallone.jpg']"
      ]
     },
     "execution_count": 30,
     "metadata": {},
     "output_type": "execute_result"
    }
   ],
   "source": [
    "new_universe=get_universe_people('parallel_universe')\n",
    "new_universe"
   ]
  },
  {
   "cell_type": "code",
   "execution_count": 31,
   "metadata": {},
   "outputs": [
    {
     "data": {
      "text/plain": [
       "25"
      ]
     },
     "execution_count": 31,
     "metadata": {},
     "output_type": "execute_result"
    }
   ],
   "source": [
    "len(new_universe)"
   ]
  },
  {
   "cell_type": "markdown",
   "metadata": {},
   "source": []
  },
  {
   "cell_type": "markdown",
   "metadata": {},
   "source": [
    "### Extra Excercises:\n",
    "\n",
    "- (Medium) Re-implement the Thanos project, but delete the people whose name starts with 'M' or 'N'\n",
    "- (Hard) Re-implement the Thanos project, but delete the people whose LAST name starts with 'C"
   ]
  },
  {
   "cell_type": "markdown",
   "metadata": {},
   "source": [
    "# Great Work!"
   ]
  }
 ],
 "metadata": {
  "kernelspec": {
   "display_name": "Python 3",
   "language": "python",
   "name": "python3"
  },
  "language_info": {
   "codemirror_mode": {
    "name": "ipython",
    "version": 3
   },
   "file_extension": ".py",
   "mimetype": "text/x-python",
   "name": "python",
   "nbconvert_exporter": "python",
   "pygments_lexer": "ipython3",
   "version": "3.7.6"
  }
 },
 "nbformat": 4,
 "nbformat_minor": 2
}
